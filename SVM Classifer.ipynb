{
 "cells": [
  {
   "cell_type": "code",
   "execution_count": 1,
   "id": "1b73e11f",
   "metadata": {},
   "outputs": [
    {
     "name": "stdout",
     "output_type": "stream",
     "text": [
      "Original dataset shape Counter({0.0: 1671, 1.0: 236})\n",
      "Resampled dataset shape Counter({0.0: 1671, 1.0: 1671})\n",
      "   title  location  requirements  telecommuting  has_company_logo  \\\n",
      "0  255.0      10.0         613.0            0.0               1.0   \n",
      "1  596.0      91.0         316.0            0.0               1.0   \n",
      "2  599.0     110.0         304.0            0.0               1.0   \n",
      "3  269.0     100.0         414.0            0.0               1.0   \n",
      "4  346.0      43.0         183.0            1.0               1.0   \n",
      "\n",
      "   has_questions  employment_type  required_experience  required_education  \\\n",
      "0            1.0              1.0                  5.0                 4.0   \n",
      "1            1.0              1.0                  3.0                 1.0   \n",
      "2            0.0              1.0                  3.0                 7.0   \n",
      "3            1.0              1.0                  5.0                 3.0   \n",
      "4            0.0              1.0                  2.0                 1.0   \n",
      "\n",
      "   industry  function  fraudulent  \n",
      "0      50.0      20.0         0.0  \n",
      "1      24.0      31.0         0.0  \n",
      "2      38.0      31.0         0.0  \n",
      "3      49.0      23.0         1.0  \n",
      "4      38.0      22.0         0.0  \n",
      "Pre-processed data :\n",
      "         title  location  requirements  telecommuting  has_company_logo  \\\n",
      "0     0.415309  0.046296      0.957813       0.000000               1.0   \n",
      "1     0.970684  0.421296      0.493750       0.000000               1.0   \n",
      "2     0.975570  0.509259      0.475000       0.000000               1.0   \n",
      "3     0.438111  0.462963      0.646875       0.000000               1.0   \n",
      "4     0.563518  0.199074      0.285938       1.000000               1.0   \n",
      "...        ...       ...           ...            ...               ...   \n",
      "3337  0.436183  0.497112      0.449995       0.000000               1.0   \n",
      "3338  0.765472  0.518519      0.476562       0.000000               1.0   \n",
      "3339  0.768730  0.699074      0.476562       0.000000               1.0   \n",
      "3340  0.224756  0.615741      0.450000       1.000000               1.0   \n",
      "3341  0.230909  0.832147      0.447730       0.709383               1.0   \n",
      "\n",
      "      has_questions  employment_type  required_experience  required_education  \\\n",
      "0          1.000000             0.25             0.833333            0.444444   \n",
      "1          1.000000             0.25             0.500000            0.111111   \n",
      "2          0.000000             0.25             0.500000            0.777778   \n",
      "3          1.000000             0.25             0.833333            0.333333   \n",
      "4          0.000000             0.25             0.333333            0.111111   \n",
      "...             ...              ...                  ...                 ...   \n",
      "3337       1.000000             0.25             0.833333            0.264010   \n",
      "3338       0.000000             0.75             0.333333            0.333333   \n",
      "3339       0.000000             0.25             0.333333            0.333333   \n",
      "3340       0.000000             0.25             0.333333            0.333333   \n",
      "3341       0.290617             0.25             0.333333            0.333333   \n",
      "\n",
      "      industry  function  \n",
      "0     0.746269  0.571429  \n",
      "1     0.358209  0.885714  \n",
      "2     0.567164  0.885714  \n",
      "3     0.731343  0.657143  \n",
      "4     0.567164  0.628571  \n",
      "...        ...       ...  \n",
      "3337  0.731343  0.657143  \n",
      "3338  0.119403  0.885714  \n",
      "3339  0.119403  0.885714  \n",
      "3340  0.820896  0.200000  \n",
      "3341  0.647393  0.200000  \n",
      "\n",
      "[3342 rows x 11 columns]\n",
      "Pre-processed class :\n",
      "0       0.0\n",
      "1       0.0\n",
      "2       0.0\n",
      "3       1.0\n",
      "4       0.0\n",
      "       ... \n",
      "3337    1.0\n",
      "3338    1.0\n",
      "3339    1.0\n",
      "3340    1.0\n",
      "3341    1.0\n",
      "Name: fraudulent, Length: 3342, dtype: float64\n"
     ]
    }
   ],
   "source": [
    "import pandas as pd\n",
    "import numpy as np\n",
    "from sklearn.model_selection import train_test_split\n",
    "from sklearn.neural_network import MLPRegressor\n",
    "from sklearn.neural_network import MLPClassifier\n",
    "from sklearn.preprocessing import MinMaxScaler\n",
    "from sklearn import preprocessing\n",
    "import matplotlib.pyplot as plt\n",
    "import seaborn as sb\n",
    "from sklearn.model_selection import train_test_split, GridSearchCV\n",
    "from imblearn.over_sampling import RandomOverSampler\n",
    "from collections import Counter\n",
    "from sklearn.datasets import make_classification\n",
    "from imblearn.over_sampling import SMOTE\n",
    "\n",
    "#Import dataset\n",
    "dataset = pd.read_csv(\"fake_job_postings.csv\")\n",
    "\n",
    "#Chose class to predict\n",
    "Class = \"fraudulent\"\n",
    "\n",
    "#Fill empty rows with unspecified\n",
    "df = dataset['requirements'].fillna('Unspecified')\n",
    "\n",
    "#Combine datasets\n",
    "dataset = pd.merge(dataset,df)\n",
    "\n",
    "#Remove any row that has an empty column\n",
    "dataset.dropna(axis='index', inplace=True)\n",
    "\n",
    "#Remove select columns\n",
    "dataset = dataset.drop(columns=['salary_range','company_profile','description','benefits','department','job_id'])\n",
    "\n",
    "#Encode all strings into numbers\n",
    "dataset = pd.DataFrame(preprocessing.OrdinalEncoder().fit_transform(dataset), columns=dataset.columns)\n",
    "\n",
    "#Specify x and y data\n",
    "OldX = dataset.drop(Class, axis = 1)\n",
    "Oldy = dataset[Class]\n",
    "\n",
    "#Oversample to get similar amounts in x and y\n",
    "print('Original dataset shape %s' % Counter(Oldy))\n",
    "sm = SMOTE(random_state=42)\n",
    "X, y = sm.fit_resample(OldX, Oldy)\n",
    "print('Resampled dataset shape %s' % Counter(y))\n",
    "\n",
    "print(dataset.head(5))\n",
    "\n",
    "#Old Oversampling technique\n",
    "#print(Oldy.value_counts)\n",
    "#ros = RandomOverSampler()\n",
    "#X,y = ros.fit_resample(OldX,Oldy)\n",
    "#print(y.value_counts)\n",
    "\n",
    "# normalize data\n",
    "scaler = MinMaxScaler(feature_range=(0, 1))\n",
    "X_rescaled = scaler.fit_transform(X)\n",
    "X = pd.DataFrame(data = X_rescaled, columns = X.columns)\n",
    "\n",
    "set_of_classes = y.value_counts().index.tolist()\n",
    "set_of_classes= pd.DataFrame({Class: set_of_classes})\n",
    "\n",
    "\n",
    "print(\"Pre-processed data :\")\n",
    "print(X)\n",
    "\n",
    "print(\"Pre-processed class :\")\n",
    "print(y)"
   ]
  },
  {
   "cell_type": "code",
   "execution_count": 2,
   "id": "a8375770",
   "metadata": {},
   "outputs": [
    {
     "name": "stdout",
     "output_type": "stream",
     "text": [
      "         title  location  requirements  telecommuting  has_company_logo  \\\n",
      "1347  0.444625  0.949074      0.381250            0.0               1.0   \n",
      "650   1.000000  0.745370      0.551563            1.0               1.0   \n",
      "1700  0.744300  0.189815      0.781250            0.0               1.0   \n",
      "2115  0.121868  0.874820      0.423830            0.0               1.0   \n",
      "785   0.224756  0.472222      0.450000            1.0               1.0   \n",
      "...        ...       ...           ...            ...               ...   \n",
      "3147  0.955110  0.492765      0.582961            0.0               1.0   \n",
      "1940  0.127036  0.853863      0.037500            0.0               1.0   \n",
      "3308  0.952773  0.495357      0.629273            0.0               1.0   \n",
      "367   0.208469  0.967593      0.004688            0.0               0.0   \n",
      "354   0.208469  0.967593      0.004688            0.0               0.0   \n",
      "\n",
      "      has_questions  employment_type  required_experience  required_education  \\\n",
      "1347            1.0             0.25             0.000000            0.000000   \n",
      "650             0.0             0.25             0.333333            0.777778   \n",
      "1700            0.0             0.25             0.333333            0.777778   \n",
      "2115            1.0             0.25             0.275613            0.333333   \n",
      "785             0.0             0.25             0.333333            0.333333   \n",
      "...             ...              ...                  ...                 ...   \n",
      "3147            1.0             0.25             0.833333            0.222222   \n",
      "1940            1.0             0.25             0.000000            0.333333   \n",
      "3308            1.0             0.25             0.833333            0.222222   \n",
      "367             0.0             0.25             0.333333            0.333333   \n",
      "354             0.0             0.25             0.333333            0.333333   \n",
      "\n",
      "      industry  function  \n",
      "1347  0.522388  0.514286  \n",
      "650   0.432836  0.885714  \n",
      "1700  0.522388  0.885714  \n",
      "2115  0.296246  0.200000  \n",
      "785   0.820896  0.200000  \n",
      "...        ...       ...  \n",
      "3147  0.731343  0.657143  \n",
      "1940  0.223881  0.200000  \n",
      "3308  0.731343  0.657143  \n",
      "367   0.462687  0.400000  \n",
      "354   0.462687  0.400000  \n",
      "\n",
      "[2673 rows x 11 columns]\n"
     ]
    },
    {
     "data": {
      "text/html": [
       "<style>#sk-container-id-1 {color: black;background-color: white;}#sk-container-id-1 pre{padding: 0;}#sk-container-id-1 div.sk-toggleable {background-color: white;}#sk-container-id-1 label.sk-toggleable__label {cursor: pointer;display: block;width: 100%;margin-bottom: 0;padding: 0.3em;box-sizing: border-box;text-align: center;}#sk-container-id-1 label.sk-toggleable__label-arrow:before {content: \"▸\";float: left;margin-right: 0.25em;color: #696969;}#sk-container-id-1 label.sk-toggleable__label-arrow:hover:before {color: black;}#sk-container-id-1 div.sk-estimator:hover label.sk-toggleable__label-arrow:before {color: black;}#sk-container-id-1 div.sk-toggleable__content {max-height: 0;max-width: 0;overflow: hidden;text-align: left;background-color: #f0f8ff;}#sk-container-id-1 div.sk-toggleable__content pre {margin: 0.2em;color: black;border-radius: 0.25em;background-color: #f0f8ff;}#sk-container-id-1 input.sk-toggleable__control:checked~div.sk-toggleable__content {max-height: 200px;max-width: 100%;overflow: auto;}#sk-container-id-1 input.sk-toggleable__control:checked~label.sk-toggleable__label-arrow:before {content: \"▾\";}#sk-container-id-1 div.sk-estimator input.sk-toggleable__control:checked~label.sk-toggleable__label {background-color: #d4ebff;}#sk-container-id-1 div.sk-label input.sk-toggleable__control:checked~label.sk-toggleable__label {background-color: #d4ebff;}#sk-container-id-1 input.sk-hidden--visually {border: 0;clip: rect(1px 1px 1px 1px);clip: rect(1px, 1px, 1px, 1px);height: 1px;margin: -1px;overflow: hidden;padding: 0;position: absolute;width: 1px;}#sk-container-id-1 div.sk-estimator {font-family: monospace;background-color: #f0f8ff;border: 1px dotted black;border-radius: 0.25em;box-sizing: border-box;margin-bottom: 0.5em;}#sk-container-id-1 div.sk-estimator:hover {background-color: #d4ebff;}#sk-container-id-1 div.sk-parallel-item::after {content: \"\";width: 100%;border-bottom: 1px solid gray;flex-grow: 1;}#sk-container-id-1 div.sk-label:hover label.sk-toggleable__label {background-color: #d4ebff;}#sk-container-id-1 div.sk-serial::before {content: \"\";position: absolute;border-left: 1px solid gray;box-sizing: border-box;top: 0;bottom: 0;left: 50%;z-index: 0;}#sk-container-id-1 div.sk-serial {display: flex;flex-direction: column;align-items: center;background-color: white;padding-right: 0.2em;padding-left: 0.2em;position: relative;}#sk-container-id-1 div.sk-item {position: relative;z-index: 1;}#sk-container-id-1 div.sk-parallel {display: flex;align-items: stretch;justify-content: center;background-color: white;position: relative;}#sk-container-id-1 div.sk-item::before, #sk-container-id-1 div.sk-parallel-item::before {content: \"\";position: absolute;border-left: 1px solid gray;box-sizing: border-box;top: 0;bottom: 0;left: 50%;z-index: -1;}#sk-container-id-1 div.sk-parallel-item {display: flex;flex-direction: column;z-index: 1;position: relative;background-color: white;}#sk-container-id-1 div.sk-parallel-item:first-child::after {align-self: flex-end;width: 50%;}#sk-container-id-1 div.sk-parallel-item:last-child::after {align-self: flex-start;width: 50%;}#sk-container-id-1 div.sk-parallel-item:only-child::after {width: 0;}#sk-container-id-1 div.sk-dashed-wrapped {border: 1px dashed gray;margin: 0 0.4em 0.5em 0.4em;box-sizing: border-box;padding-bottom: 0.4em;background-color: white;}#sk-container-id-1 div.sk-label label {font-family: monospace;font-weight: bold;display: inline-block;line-height: 1.2em;}#sk-container-id-1 div.sk-label-container {text-align: center;}#sk-container-id-1 div.sk-container {/* jupyter's `normalize.less` sets `[hidden] { display: none; }` but bootstrap.min.css set `[hidden] { display: none !important; }` so we also need the `!important` here to be able to override the default hidden behavior on the sphinx rendered scikit-learn.org. See: https://github.com/scikit-learn/scikit-learn/issues/21755 */display: inline-block !important;position: relative;}#sk-container-id-1 div.sk-text-repr-fallback {display: none;}</style><div id=\"sk-container-id-1\" class=\"sk-top-container\"><div class=\"sk-text-repr-fallback\"><pre>CategoricalNB(force_alpha=True)</pre><b>In a Jupyter environment, please rerun this cell to show the HTML representation or trust the notebook. <br />On GitHub, the HTML representation is unable to render, please try loading this page with nbviewer.org.</b></div><div class=\"sk-container\" hidden><div class=\"sk-item\"><div class=\"sk-estimator sk-toggleable\"><input class=\"sk-toggleable__control sk-hidden--visually\" id=\"sk-estimator-id-1\" type=\"checkbox\" checked><label for=\"sk-estimator-id-1\" class=\"sk-toggleable__label sk-toggleable__label-arrow\">CategoricalNB</label><div class=\"sk-toggleable__content\"><pre>CategoricalNB(force_alpha=True)</pre></div></div></div></div></div>"
      ],
      "text/plain": [
       "CategoricalNB(force_alpha=True)"
      ]
     },
     "execution_count": 2,
     "metadata": {},
     "output_type": "execute_result"
    }
   ],
   "source": [
    "from sklearn.naive_bayes import GaussianNB, CategoricalNB\n",
    "from sklearn.metrics import classification_report\n",
    "\n",
    "cat = ['title', 'location', 'requirements', 'telecommuting',\n",
    "       'has_company_logo', 'has_questions', 'employment_type',\n",
    "       'required_experience', 'required_education', 'industry']\n",
    "\n",
    "# splitting data into ratio 80:20\n",
    "data_train, data_test, class_train, class_test = train_test_split(X, y, test_size=0.2)\n",
    "\n",
    "print(data_train)\n",
    "\n",
    "# Build model for catagorical data \n",
    "clf = CategoricalNB(force_alpha=True)\n",
    "clf.fit(data_train, class_train)\n",
    "\n"
   ]
  },
  {
   "cell_type": "code",
   "execution_count": 3,
   "id": "659672f7",
   "metadata": {},
   "outputs": [
    {
     "data": {
      "text/html": [
       "<style>#sk-container-id-2 {color: black;background-color: white;}#sk-container-id-2 pre{padding: 0;}#sk-container-id-2 div.sk-toggleable {background-color: white;}#sk-container-id-2 label.sk-toggleable__label {cursor: pointer;display: block;width: 100%;margin-bottom: 0;padding: 0.3em;box-sizing: border-box;text-align: center;}#sk-container-id-2 label.sk-toggleable__label-arrow:before {content: \"▸\";float: left;margin-right: 0.25em;color: #696969;}#sk-container-id-2 label.sk-toggleable__label-arrow:hover:before {color: black;}#sk-container-id-2 div.sk-estimator:hover label.sk-toggleable__label-arrow:before {color: black;}#sk-container-id-2 div.sk-toggleable__content {max-height: 0;max-width: 0;overflow: hidden;text-align: left;background-color: #f0f8ff;}#sk-container-id-2 div.sk-toggleable__content pre {margin: 0.2em;color: black;border-radius: 0.25em;background-color: #f0f8ff;}#sk-container-id-2 input.sk-toggleable__control:checked~div.sk-toggleable__content {max-height: 200px;max-width: 100%;overflow: auto;}#sk-container-id-2 input.sk-toggleable__control:checked~label.sk-toggleable__label-arrow:before {content: \"▾\";}#sk-container-id-2 div.sk-estimator input.sk-toggleable__control:checked~label.sk-toggleable__label {background-color: #d4ebff;}#sk-container-id-2 div.sk-label input.sk-toggleable__control:checked~label.sk-toggleable__label {background-color: #d4ebff;}#sk-container-id-2 input.sk-hidden--visually {border: 0;clip: rect(1px 1px 1px 1px);clip: rect(1px, 1px, 1px, 1px);height: 1px;margin: -1px;overflow: hidden;padding: 0;position: absolute;width: 1px;}#sk-container-id-2 div.sk-estimator {font-family: monospace;background-color: #f0f8ff;border: 1px dotted black;border-radius: 0.25em;box-sizing: border-box;margin-bottom: 0.5em;}#sk-container-id-2 div.sk-estimator:hover {background-color: #d4ebff;}#sk-container-id-2 div.sk-parallel-item::after {content: \"\";width: 100%;border-bottom: 1px solid gray;flex-grow: 1;}#sk-container-id-2 div.sk-label:hover label.sk-toggleable__label {background-color: #d4ebff;}#sk-container-id-2 div.sk-serial::before {content: \"\";position: absolute;border-left: 1px solid gray;box-sizing: border-box;top: 0;bottom: 0;left: 50%;z-index: 0;}#sk-container-id-2 div.sk-serial {display: flex;flex-direction: column;align-items: center;background-color: white;padding-right: 0.2em;padding-left: 0.2em;position: relative;}#sk-container-id-2 div.sk-item {position: relative;z-index: 1;}#sk-container-id-2 div.sk-parallel {display: flex;align-items: stretch;justify-content: center;background-color: white;position: relative;}#sk-container-id-2 div.sk-item::before, #sk-container-id-2 div.sk-parallel-item::before {content: \"\";position: absolute;border-left: 1px solid gray;box-sizing: border-box;top: 0;bottom: 0;left: 50%;z-index: -1;}#sk-container-id-2 div.sk-parallel-item {display: flex;flex-direction: column;z-index: 1;position: relative;background-color: white;}#sk-container-id-2 div.sk-parallel-item:first-child::after {align-self: flex-end;width: 50%;}#sk-container-id-2 div.sk-parallel-item:last-child::after {align-self: flex-start;width: 50%;}#sk-container-id-2 div.sk-parallel-item:only-child::after {width: 0;}#sk-container-id-2 div.sk-dashed-wrapped {border: 1px dashed gray;margin: 0 0.4em 0.5em 0.4em;box-sizing: border-box;padding-bottom: 0.4em;background-color: white;}#sk-container-id-2 div.sk-label label {font-family: monospace;font-weight: bold;display: inline-block;line-height: 1.2em;}#sk-container-id-2 div.sk-label-container {text-align: center;}#sk-container-id-2 div.sk-container {/* jupyter's `normalize.less` sets `[hidden] { display: none; }` but bootstrap.min.css set `[hidden] { display: none !important; }` so we also need the `!important` here to be able to override the default hidden behavior on the sphinx rendered scikit-learn.org. See: https://github.com/scikit-learn/scikit-learn/issues/21755 */display: inline-block !important;position: relative;}#sk-container-id-2 div.sk-text-repr-fallback {display: none;}</style><div id=\"sk-container-id-2\" class=\"sk-top-container\"><div class=\"sk-text-repr-fallback\"><pre>SVC(kernel=&#x27;linear&#x27;)</pre><b>In a Jupyter environment, please rerun this cell to show the HTML representation or trust the notebook. <br />On GitHub, the HTML representation is unable to render, please try loading this page with nbviewer.org.</b></div><div class=\"sk-container\" hidden><div class=\"sk-item\"><div class=\"sk-estimator sk-toggleable\"><input class=\"sk-toggleable__control sk-hidden--visually\" id=\"sk-estimator-id-2\" type=\"checkbox\" checked><label for=\"sk-estimator-id-2\" class=\"sk-toggleable__label sk-toggleable__label-arrow\">SVC</label><div class=\"sk-toggleable__content\"><pre>SVC(kernel=&#x27;linear&#x27;)</pre></div></div></div></div></div>"
      ],
      "text/plain": [
       "SVC(kernel='linear')"
      ]
     },
     "execution_count": 3,
     "metadata": {},
     "output_type": "execute_result"
    }
   ],
   "source": [
    "# build model based on linear\n",
    "from sklearn.svm import SVC\n",
    "svc_li = SVC(kernel='linear')\n",
    "\n",
    "svc_li.fit(data_train, np.asarray(class_train))"
   ]
  },
  {
   "cell_type": "code",
   "execution_count": 4,
   "id": "2252457a",
   "metadata": {},
   "outputs": [
    {
     "data": {
      "text/html": [
       "<style>#sk-container-id-3 {color: black;background-color: white;}#sk-container-id-3 pre{padding: 0;}#sk-container-id-3 div.sk-toggleable {background-color: white;}#sk-container-id-3 label.sk-toggleable__label {cursor: pointer;display: block;width: 100%;margin-bottom: 0;padding: 0.3em;box-sizing: border-box;text-align: center;}#sk-container-id-3 label.sk-toggleable__label-arrow:before {content: \"▸\";float: left;margin-right: 0.25em;color: #696969;}#sk-container-id-3 label.sk-toggleable__label-arrow:hover:before {color: black;}#sk-container-id-3 div.sk-estimator:hover label.sk-toggleable__label-arrow:before {color: black;}#sk-container-id-3 div.sk-toggleable__content {max-height: 0;max-width: 0;overflow: hidden;text-align: left;background-color: #f0f8ff;}#sk-container-id-3 div.sk-toggleable__content pre {margin: 0.2em;color: black;border-radius: 0.25em;background-color: #f0f8ff;}#sk-container-id-3 input.sk-toggleable__control:checked~div.sk-toggleable__content {max-height: 200px;max-width: 100%;overflow: auto;}#sk-container-id-3 input.sk-toggleable__control:checked~label.sk-toggleable__label-arrow:before {content: \"▾\";}#sk-container-id-3 div.sk-estimator input.sk-toggleable__control:checked~label.sk-toggleable__label {background-color: #d4ebff;}#sk-container-id-3 div.sk-label input.sk-toggleable__control:checked~label.sk-toggleable__label {background-color: #d4ebff;}#sk-container-id-3 input.sk-hidden--visually {border: 0;clip: rect(1px 1px 1px 1px);clip: rect(1px, 1px, 1px, 1px);height: 1px;margin: -1px;overflow: hidden;padding: 0;position: absolute;width: 1px;}#sk-container-id-3 div.sk-estimator {font-family: monospace;background-color: #f0f8ff;border: 1px dotted black;border-radius: 0.25em;box-sizing: border-box;margin-bottom: 0.5em;}#sk-container-id-3 div.sk-estimator:hover {background-color: #d4ebff;}#sk-container-id-3 div.sk-parallel-item::after {content: \"\";width: 100%;border-bottom: 1px solid gray;flex-grow: 1;}#sk-container-id-3 div.sk-label:hover label.sk-toggleable__label {background-color: #d4ebff;}#sk-container-id-3 div.sk-serial::before {content: \"\";position: absolute;border-left: 1px solid gray;box-sizing: border-box;top: 0;bottom: 0;left: 50%;z-index: 0;}#sk-container-id-3 div.sk-serial {display: flex;flex-direction: column;align-items: center;background-color: white;padding-right: 0.2em;padding-left: 0.2em;position: relative;}#sk-container-id-3 div.sk-item {position: relative;z-index: 1;}#sk-container-id-3 div.sk-parallel {display: flex;align-items: stretch;justify-content: center;background-color: white;position: relative;}#sk-container-id-3 div.sk-item::before, #sk-container-id-3 div.sk-parallel-item::before {content: \"\";position: absolute;border-left: 1px solid gray;box-sizing: border-box;top: 0;bottom: 0;left: 50%;z-index: -1;}#sk-container-id-3 div.sk-parallel-item {display: flex;flex-direction: column;z-index: 1;position: relative;background-color: white;}#sk-container-id-3 div.sk-parallel-item:first-child::after {align-self: flex-end;width: 50%;}#sk-container-id-3 div.sk-parallel-item:last-child::after {align-self: flex-start;width: 50%;}#sk-container-id-3 div.sk-parallel-item:only-child::after {width: 0;}#sk-container-id-3 div.sk-dashed-wrapped {border: 1px dashed gray;margin: 0 0.4em 0.5em 0.4em;box-sizing: border-box;padding-bottom: 0.4em;background-color: white;}#sk-container-id-3 div.sk-label label {font-family: monospace;font-weight: bold;display: inline-block;line-height: 1.2em;}#sk-container-id-3 div.sk-label-container {text-align: center;}#sk-container-id-3 div.sk-container {/* jupyter's `normalize.less` sets `[hidden] { display: none; }` but bootstrap.min.css set `[hidden] { display: none !important; }` so we also need the `!important` here to be able to override the default hidden behavior on the sphinx rendered scikit-learn.org. See: https://github.com/scikit-learn/scikit-learn/issues/21755 */display: inline-block !important;position: relative;}#sk-container-id-3 div.sk-text-repr-fallback {display: none;}</style><div id=\"sk-container-id-3\" class=\"sk-top-container\"><div class=\"sk-text-repr-fallback\"><pre>SVC()</pre><b>In a Jupyter environment, please rerun this cell to show the HTML representation or trust the notebook. <br />On GitHub, the HTML representation is unable to render, please try loading this page with nbviewer.org.</b></div><div class=\"sk-container\" hidden><div class=\"sk-item\"><div class=\"sk-estimator sk-toggleable\"><input class=\"sk-toggleable__control sk-hidden--visually\" id=\"sk-estimator-id-3\" type=\"checkbox\" checked><label for=\"sk-estimator-id-3\" class=\"sk-toggleable__label sk-toggleable__label-arrow\">SVC</label><div class=\"sk-toggleable__content\"><pre>SVC()</pre></div></div></div></div></div>"
      ],
      "text/plain": [
       "SVC()"
      ]
     },
     "execution_count": 4,
     "metadata": {},
     "output_type": "execute_result"
    }
   ],
   "source": [
    "# build model based on rbf \n",
    "svc_rbf = SVC(kernel='rbf')\n",
    "\n",
    "svc_rbf.fit(data_train, np.asarray(class_train))"
   ]
  },
  {
   "cell_type": "code",
   "execution_count": 8,
   "id": "b967b735",
   "metadata": {},
   "outputs": [
    {
     "name": "stdout",
     "output_type": "stream",
     "text": [
      "Accuracy :  0.8579970104633782\n",
      "Mean Square Error :  0.14200298953662183\n",
      "[0. 0. 1. 0. 0.]\n",
      "Confusion Matrix for each label : \n",
      "[[[288  62]\n",
      "  [ 33 286]]\n",
      "\n",
      " [[286  33]\n",
      "  [ 62 288]]]\n",
      "Classification Report : \n",
      "              precision    recall  f1-score   support\n",
      "\n",
      "         0.0       0.82      0.90      0.86       319\n",
      "         1.0       0.90      0.82      0.86       350\n",
      "\n",
      "    accuracy                           0.86       669\n",
      "   macro avg       0.86      0.86      0.86       669\n",
      "weighted avg       0.86      0.86      0.86       669\n",
      "\n"
     ]
    }
   ],
   "source": [
    "from sklearn.metrics import classification_report, confusion_matrix, multilabel_confusion_matrix\n",
    "from sklearn.metrics import mean_squared_error, accuracy_score, precision_score, recall_score\n",
    "# predict linear model\n",
    "pred = svc_li.predict(data_test)\n",
    "\n",
    "#Ways to report how good the model was\n",
    "print(\"Accuracy : \", accuracy_score(class_test, pred))\n",
    "print(\"Mean Square Error : \", mean_squared_error(class_test, pred))\n",
    "\n",
    "print(pred[:5])\n",
    "print(\"Confusion Matrix for each label : \")\n",
    "print(multilabel_confusion_matrix(class_test, pred))\n",
    "\n",
    "print(\"Classification Report : \")\n",
    "print(classification_report(class_test, pred,zero_division=1))"
   ]
  },
  {
   "cell_type": "code",
   "execution_count": 9,
   "id": "4d92f046",
   "metadata": {},
   "outputs": [
    {
     "name": "stdout",
     "output_type": "stream",
     "text": [
      "Accuracy :  0.9671150971599403\n",
      "Mean Square Error :  0.03288490284005979\n",
      "[0. 1. 1. 0. 1.]\n",
      "Confusion Matrix for each label : \n",
      "[[[342   8]\n",
      "  [ 14 305]]\n",
      "\n",
      " [[305  14]\n",
      "  [  8 342]]]\n",
      "Classification Report : \n",
      "              precision    recall  f1-score   support\n",
      "\n",
      "         0.0       0.97      0.96      0.97       319\n",
      "         1.0       0.96      0.98      0.97       350\n",
      "\n",
      "    accuracy                           0.97       669\n",
      "   macro avg       0.97      0.97      0.97       669\n",
      "weighted avg       0.97      0.97      0.97       669\n",
      "\n"
     ]
    }
   ],
   "source": [
    "# predict rbf model\n",
    "pred = svc_rbf.predict(data_test)\n",
    "\n",
    "#Ways to report how good the model was\n",
    "print(\"Accuracy : \", accuracy_score(class_test, pred))\n",
    "print(\"Mean Square Error : \", mean_squared_error(class_test, pred))\n",
    "\n",
    "print(pred[:5])\n",
    "print(\"Confusion Matrix for each label : \")\n",
    "print(multilabel_confusion_matrix(class_test, pred))\n",
    "\n",
    "print(\"Classification Report : \")\n",
    "print(classification_report(class_test, pred,zero_division=1))"
   ]
  },
  {
   "cell_type": "code",
   "execution_count": null,
   "id": "864ad61b",
   "metadata": {},
   "outputs": [],
   "source": []
  }
 ],
 "metadata": {
  "kernelspec": {
   "display_name": "Python 3 (ipykernel)",
   "language": "python",
   "name": "python3"
  },
  "language_info": {
   "codemirror_mode": {
    "name": "ipython",
    "version": 3
   },
   "file_extension": ".py",
   "mimetype": "text/x-python",
   "name": "python",
   "nbconvert_exporter": "python",
   "pygments_lexer": "ipython3",
   "version": "3.10.9"
  }
 },
 "nbformat": 4,
 "nbformat_minor": 5
}
